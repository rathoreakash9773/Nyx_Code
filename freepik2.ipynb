{
 "cells": [
  {
   "cell_type": "code",
   "execution_count": 20,
   "metadata": {},
   "outputs": [],
   "source": [
    "import requests\n",
    "from selenium import webdriver\n",
    "from selenium.webdriver.chrome.service import Service\n",
    "import time\n",
    "import os\n",
    "from bs4 import BeautifulSoup \n",
    "import pandas as pd"
   ]
  },
  {
   "cell_type": "code",
   "execution_count": 21,
   "metadata": {},
   "outputs": [],
   "source": [
    "driver_path = r'C:\\Users\\Pushkar Sharma\\Desktop\\Driver\\chromedriver.exe'\n",
    "\n",
    "img_path = 'FreepikImages'\n",
    "\n",
    "if not os.path.exists(img_path):\n",
    "    os.makedirs(img_path)"
   ]
  },
  {
   "cell_type": "code",
   "execution_count": 22,
   "metadata": {},
   "outputs": [],
   "source": [
    "headers = {'User-Agent': 'Mozilla/5.0 (Windows NT 10.0; Win64; x64) AppleWebKit/537.36 (KHTML, like Gecko) Chrome/58.0.3029.110 Safari/537.3'}\n",
    "page_range = 1\n",
    "extraction = {}"
   ]
  },
  {
   "cell_type": "code",
   "execution_count": 30,
   "metadata": {},
   "outputs": [],
   "source": [
    "for i in range(1,page_range+1):\n",
    "    \n",
    "    url = f\"https://www.freepik.com/search?ai=excluded&format=search&last_filter=people_ethnicity&last_value=indian&people=include&people_ethnicity=indian&query=kolkata+culture&type=photo&page={i}\"\n",
    "    driver = webdriver.Chrome(options=chrome_options)\n",
    "    driver.get(url)\n",
    "    time.sleep(5)\n",
    "    page_source = driver.page_source\n",
    "    driver.quit()\n",
    "    soup = BeautifulSoup(page_source, 'html.parser')\n",
    "    fig_lst = soup.findAll('figure')\n",
    "  \n",
    "    for fig in fig_lst:\n",
    "        img_link = fig.find('a', href=True)['href']\n",
    "        get_title = requests.get(img_link, headers=headers)\n",
    "        \n",
    "        title_soup = BeautifulSoup(get_title.text, 'html.parser')\n",
    "        title = title_soup.find('div', class_='detail__title overflow-lines').find('h1').get_text('strip=True')\n",
    "        \n",
    "        img_link = title_soup.find('img', class_='thumb').get('src')\n",
    "        img_req = requests.get(img_link)\n",
    "        \n",
    "        img_name = title.replace(' ','_')\n",
    "        \n",
    "        f_name = os.path.join(img_path ,f'{img_name}.jpg')\n",
    "        \n",
    "        with open(f_name,'wb') as f:\n",
    "            f.write(img_req.content)\n",
    "            \n",
    "        extraction[title] = img_link\n",
    "        \n",
    "        \n",
    "   \n"
   ]
  },
  {
   "cell_type": "code",
   "execution_count": 25,
   "metadata": {},
   "outputs": [],
   "source": [
    "df = pd.DataFrame(extraction.items(), columns=['Title', 'ImageLink'])"
   ]
  },
  {
   "cell_type": "code",
   "execution_count": 26,
   "metadata": {},
   "outputs": [],
   "source": [
    "df.to_excel('DataExtraction.xlsx',index=False)"
   ]
  }
 ],
 "metadata": {
  "kernelspec": {
   "display_name": "rpa_env",
   "language": "python",
   "name": "python3"
  },
  "language_info": {
   "codemirror_mode": {
    "name": "ipython",
    "version": 3
   },
   "file_extension": ".py",
   "mimetype": "text/x-python",
   "name": "python",
   "nbconvert_exporter": "python",
   "pygments_lexer": "ipython3",
   "version": "3.10.12"
  }
 },
 "nbformat": 4,
 "nbformat_minor": 2
}
